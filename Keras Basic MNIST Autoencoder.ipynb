{
 "cells": [
  {
   "cell_type": "code",
   "execution_count": 1,
   "metadata": {},
   "outputs": [
    {
     "name": "stderr",
     "output_type": "stream",
     "text": [
      "Using TensorFlow backend.\n"
     ]
    }
   ],
   "source": [
    "import keras\n",
    "from keras.models import Model\n",
    "from keras.layers import Dense, Input, Dropout\n",
    "from keras.datasets import mnist\n",
    "from keras import backend as K\n",
    "\n",
    "import numpy as np\n",
    "import random\n",
    "import matplotlib.pyplot as plt\n",
    "\n",
    "%matplotlib inline"
   ]
  },
  {
   "cell_type": "code",
   "execution_count": 2,
   "metadata": {},
   "outputs": [],
   "source": [
    "(X_train, _), (X_test, _) = mnist.load_data()\n",
    "\n",
    "X_train = X_train.reshape(-1, 784).astype('float32') / 255.0\n",
    "X_test = X_test.reshape(-1, 784).astype('float32') / 255.0"
   ]
  },
  {
   "cell_type": "code",
   "execution_count": 3,
   "metadata": {},
   "outputs": [],
   "source": [
    "def show_image(pixels):\n",
    "    img = pixels.reshape(28, 28)\n",
    "    \n",
    "    plt.axis('off')\n",
    "    plt.imshow(img, cmap='gray_r')"
   ]
  },
  {
   "cell_type": "code",
   "execution_count": 4,
   "metadata": {},
   "outputs": [],
   "source": [
    "input_layer = Input(shape=(784,))\n",
    "\n",
    "# Autoencoders can represent both liners and non-linar transformation in encoding.\n",
    "# The idea is to learn a non-linear representation of the data that minimizes noise \n",
    "# while maximizing the ability to truthfully restore the data from the compressed format.\n",
    "# relu will give us the nonlinearities you want.\n",
    "hidden1 = Dense(512, activation='relu')(input_layer)\n",
    "hidden2 = Dense(256, activation='relu')(hidden1)\n",
    "hidden3 = Dense(128, activation='relu')(hidden2)\n",
    "hidden4 = Dense(64, activation='relu')(hidden3)\n",
    "\n",
    "hidden5 = Dense(128, activation='relu')(hidden4)\n",
    "hidden6 = Dense(256, activation='relu')(hidden5)\n",
    "hidden7 = Dense(512, activation='relu')(hidden6)\n",
    "decoder = Dense(784, activation='sigmoid')(hidden7)\n",
    "\n",
    "# encoded data -> hidden4\n",
    "model = Model(input_layer, decoder)\n",
    "\n",
    "encoder = K.function([input_layer], [hidden4])\n",
    "decode = K.function([hidden4], [decoder])\n",
    "\n",
    "model.compile(optimizer=keras.optimizers.Adadelta(), loss='binary_crossentropy')"
   ]
  },
  {
   "cell_type": "code",
   "execution_count": 5,
   "metadata": {},
   "outputs": [
    {
     "name": "stdout",
     "output_type": "stream",
     "text": [
      "Train on 60000 samples, validate on 10000 samples\n",
      "Epoch 1/12\n",
      "60000/60000 [==============================] - 88s 1ms/step - loss: 0.3140 - val_loss: 0.2564\n",
      "Epoch 2/12\n",
      "60000/60000 [==============================] - 98s 2ms/step - loss: 0.2518 - val_loss: 0.2497\n",
      "Epoch 3/12\n",
      "60000/60000 [==============================] - 57s 949us/step - loss: 0.2386 - val_loss: 0.2250\n",
      "Epoch 4/12\n",
      "60000/60000 [==============================] - 56s 937us/step - loss: 0.2133 - val_loss: 0.2000\n",
      "Epoch 5/12\n",
      "60000/60000 [==============================] - 56s 931us/step - loss: 0.1930 - val_loss: 0.1867\n",
      "Epoch 6/12\n",
      "60000/60000 [==============================] - 60s 1ms/step - loss: 0.1791 - val_loss: 0.1705\n",
      "Epoch 7/12\n",
      "60000/60000 [==============================] - 64s 1ms/step - loss: 0.1705 - val_loss: 0.1654\n",
      "Epoch 8/12\n",
      "60000/60000 [==============================] - 61s 1ms/step - loss: 0.1634 - val_loss: 0.1585\n",
      "Epoch 9/12\n",
      "60000/60000 [==============================] - 105s 2ms/step - loss: 0.1569 - val_loss: 0.1541\n",
      "Epoch 10/12\n",
      "60000/60000 [==============================] - 120s 2ms/step - loss: 0.1511 - val_loss: 0.1451\n",
      "Epoch 11/12\n",
      "60000/60000 [==============================] - 98s 2ms/step - loss: 0.1459 - val_loss: 0.1440\n",
      "Epoch 12/12\n",
      "60000/60000 [==============================] - 115s 2ms/step - loss: 0.1422 - val_loss: 0.1379\n"
     ]
    },
    {
     "data": {
      "text/plain": [
       "<keras.callbacks.History at 0x7f946ff48c50>"
      ]
     },
     "execution_count": 5,
     "metadata": {},
     "output_type": "execute_result"
    }
   ],
   "source": [
    "model.fit(X_train, X_train, epochs=12, batch_size=192, validation_data=(X_test, X_test))"
   ]
  },
  {
   "cell_type": "code",
   "execution_count": 12,
   "metadata": {
    "scrolled": true
   },
   "outputs": [
    {
     "data": {
      "image/png": "[encoded data removed]",
      "text/plain": [
       "<Figure size 432x288 with 1 Axes>"
      ]
     },
     "metadata": {
      "needs_background": "light"
     },
     "output_type": "display_data"
    }
   ],
   "source": [
    "sample = random.choice(X_test)\n",
    "\n",
    "show_image(sample)"
   ]
  },
  {
   "cell_type": "code",
   "execution_count": 13,
   "metadata": {},
   "outputs": [
    {
     "data": {
      "image/png": "[encoded data removed]",
      "text/plain": [
       "<Figure size 432x288 with 1 Axes>"
      ]
     },
     "metadata": {
      "needs_background": "light"
     },
     "output_type": "display_data"
    }
   ],
   "source": [
    "reconstructed = model.predict(sample.reshape(1, -1))\n",
    "\n",
    "show_image(reconstructed)"
   ]
  },
  {
   "cell_type": "code",
   "execution_count": 14,
   "metadata": {
    "scrolled": true
   },
   "outputs": [
    {
     "data": {
      "text/plain": [
       "<matplotlib.image.AxesImage at 0x7f946cb8c1d0>"
      ]
     },
     "execution_count": 14,
     "metadata": {},
     "output_type": "execute_result"
    },
    {
     "data": {
      "image/png": "[encoded data removed]",
      "text/plain": [
       "<Figure size 432x288 with 1 Axes>"
      ]
     },
     "metadata": {
      "needs_background": "light"
     },
     "output_type": "display_data"
    }
   ],
   "source": [
    "values = encoder([sample.reshape(1, -1)])[0]\n",
    "\n",
    "# print values.shape, encoder shape\n",
    "\n",
    "values = (values / np.max(values)).reshape(8, 8)\n",
    "\n",
    "plt.imshow(values, cmap='gray_r')"
   ]
  },
  {
   "cell_type": "code",
   "execution_count": null,
   "metadata": {},
   "outputs": [],
   "source": []
  }
 ],
 "metadata": {
  "kernelspec": {
   "display_name": "Python 3",
   "language": "python",
   "name": "python3"
  },
  "language_info": {
   "codemirror_mode": {
    "name": "ipython",
    "version": 3
   },
   "file_extension": ".py",
   "mimetype": "text/x-python",
   "name": "python",
   "nbconvert_exporter": "python",
   "pygments_lexer": "ipython3",
   "version": "3.6.7"
  }
 },
 "nbformat": 4,
 "nbformat_minor": 2
}
