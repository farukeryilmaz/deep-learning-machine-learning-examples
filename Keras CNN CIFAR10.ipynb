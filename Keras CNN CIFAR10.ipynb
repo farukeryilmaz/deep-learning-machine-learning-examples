{
 "cells": [
  {
   "cell_type": "code",
   "execution_count": 1,
   "metadata": {},
   "outputs": [
    {
     "name": "stderr",
     "output_type": "stream",
     "text": [
      "Using TensorFlow backend.\n"
     ]
    }
   ],
   "source": [
    "import keras\n",
    "from keras.datasets import cifar10\n",
    "from keras.models import Sequential\n",
    "from keras.layers import Conv2D, MaxPool2D, Dense\n",
    "from keras.layers import Dropout, Activation, Flatten\n",
    "import numpy as np\n",
    "import matplotlib.pyplot as plt\n",
    "import tensorflow as tf \n",
    "\n",
    "%matplotlib inline"
   ]
  },
  {
   "cell_type": "code",
   "execution_count": 2,
   "metadata": {},
   "outputs": [],
   "source": [
    "np.random.seed(32)\n",
    "NUM_CLASSES = 10\n",
    "(X_train, y_train), (X_test, y_test) = cifar10.load_data()"
   ]
  },
  {
   "cell_type": "code",
   "execution_count": 3,
   "metadata": {},
   "outputs": [],
   "source": [
    "TYPE_MAP = {\n",
    "    0: 'Plain',\n",
    "    1: 'Auto',\n",
    "    2: 'Bird',\n",
    "    3: 'Cat',\n",
    "    4: 'Deer',\n",
    "    5: 'Dog',\n",
    "    6: 'Frog',\n",
    "    7: 'Horse',\n",
    "    8: 'Ship',\n",
    "    9: 'Truck'\n",
    "}"
   ]
  },
  {
   "cell_type": "code",
   "execution_count": 4,
   "metadata": {},
   "outputs": [],
   "source": [
    "X_train = X_train.astype('float32') / 255.0\n",
    "X_test = X_test.astype('float32') / 255.0\n",
    "\n",
    "y_train = keras.utils.to_categorical(y_train, NUM_CLASSES)\n",
    "y_test = keras.utils.to_categorical(y_test, NUM_CLASSES)"
   ]
  },
  {
   "cell_type": "code",
   "execution_count": 5,
   "metadata": {},
   "outputs": [
    {
     "name": "stdout",
     "output_type": "stream",
     "text": [
      "Image: Frog\n"
     ]
    },
    {
     "data": {
      "text/plain": [
       "<matplotlib.image.AxesImage at 0x7f34f91642b0>"
      ]
     },
     "execution_count": 5,
     "metadata": {},
     "output_type": "execute_result"
    },
    {
     "data": {
      "image/png": "[encoded data removed]",
      "text/plain": [
       "<Figure size 432x288 with 1 Axes>"
      ]
     },
     "metadata": {
      "needs_background": "light"
     },
     "output_type": "display_data"
    }
   ],
   "source": [
    "import random\n",
    "\n",
    "dataset_size = X_train.shape[0]\n",
    "\n",
    "idx = random.randint(0, dataset_size)\n",
    "#sample = random.choice(X_train)\n",
    "\n",
    "sample_img = X_train[idx]\n",
    "sample_label = np.argmax(y_train[idx])\n",
    "\n",
    "print(\"Image: %s\" % TYPE_MAP[sample_label])\n",
    "#print(sample_img)\n",
    "plt.imshow(sample_img)"
   ]
  },
  {
   "cell_type": "code",
   "execution_count": 6,
   "metadata": {},
   "outputs": [
    {
     "name": "stdout",
     "output_type": "stream",
     "text": [
      "6002154\n",
      "_________________________________________________________________\n",
      "Layer (type)                 Output Shape              Param #   \n",
      "=================================================================\n",
      "conv2d_1 (Conv2D)            (None, 32, 32, 32)        2432      \n",
      "_________________________________________________________________\n",
      "activation_1 (Activation)    (None, 32, 32, 32)        0         \n",
      "_________________________________________________________________\n",
      "conv2d_2 (Conv2D)            (None, 30, 30, 32)        9248      \n",
      "_________________________________________________________________\n",
      "max_pooling2d_1 (MaxPooling2 (None, 15, 15, 32)        0         \n",
      "_________________________________________________________________\n",
      "activation_2 (Activation)    (None, 15, 15, 32)        0         \n",
      "_________________________________________________________________\n",
      "dropout_1 (Dropout)          (None, 15, 15, 32)        0         \n",
      "_________________________________________________________________\n",
      "conv2d_3 (Conv2D)            (None, 15, 15, 64)        51264     \n",
      "_________________________________________________________________\n",
      "activation_3 (Activation)    (None, 15, 15, 64)        0         \n",
      "_________________________________________________________________\n",
      "conv2d_4 (Conv2D)            (None, 13, 13, 64)        36928     \n",
      "_________________________________________________________________\n",
      "max_pooling2d_2 (MaxPooling2 (None, 6, 6, 64)          0         \n",
      "_________________________________________________________________\n",
      "activation_4 (Activation)    (None, 6, 6, 64)          0         \n",
      "_________________________________________________________________\n",
      "dropout_2 (Dropout)          (None, 6, 6, 64)          0         \n",
      "_________________________________________________________________\n",
      "conv2d_5 (Conv2D)            (None, 6, 6, 64)          65600     \n",
      "_________________________________________________________________\n",
      "activation_5 (Activation)    (None, 6, 6, 64)          0         \n",
      "_________________________________________________________________\n",
      "flatten_1 (Flatten)          (None, 2304)              0         \n",
      "_________________________________________________________________\n",
      "dense_1 (Dense)              (None, 2048)              4720640   \n",
      "_________________________________________________________________\n",
      "dropout_3 (Dropout)          (None, 2048)              0         \n",
      "_________________________________________________________________\n",
      "dense_2 (Dense)              (None, 512)               1049088   \n",
      "_________________________________________________________________\n",
      "dropout_4 (Dropout)          (None, 512)               0         \n",
      "_________________________________________________________________\n",
      "dense_3 (Dense)              (None, 128)               65664     \n",
      "_________________________________________________________________\n",
      "dense_4 (Dense)              (None, 10)                1290      \n",
      "_________________________________________________________________\n",
      "activation_6 (Activation)    (None, 10)                0         \n",
      "=================================================================\n",
      "Total params: 6,002,154\n",
      "Trainable params: 6,002,154\n",
      "Non-trainable params: 0\n",
      "_________________________________________________________________\n",
      "None\n"
     ]
    }
   ],
   "source": [
    "input_shape = X_train.shape[1:]\n",
    "\n",
    "model = Sequential()\n",
    "\n",
    "# less and small filters would be better for this model\n",
    "\n",
    "model.add(Conv2D(32, (5, 5), padding='same', input_shape=input_shape))\n",
    "model.add(Activation('relu'))\n",
    "\n",
    "model.add(Conv2D(32, (3, 3)))\n",
    "model.add(MaxPool2D(pool_size=(2,2)))\n",
    "model.add(Activation('relu'))\n",
    "model.add(Dropout(0.25))\n",
    "\n",
    "model.add(Conv2D(64, (5, 5), padding='same'))\n",
    "model.add(Activation('relu'))\n",
    "\n",
    "model.add(Conv2D(64, (3, 3)))\n",
    "model.add(MaxPool2D(pool_size=(2, 2)))\n",
    "model.add(Activation('relu'))\n",
    "model.add(Dropout(0.5))\n",
    "\n",
    "model.add(Conv2D(64, (4, 4), padding='same'))\n",
    "model.add(Activation('relu'))\n",
    "\n",
    "model.add(Flatten())\n",
    "model.add(Dense(2048, activation='relu'))\n",
    "model.add(Dropout(0.5))\n",
    "\n",
    "model.add(Dense(512, activation='relu'))\n",
    "model.add(Dropout(0.25))\n",
    "\n",
    "model.add(Dense(128, activation='relu'))\n",
    "model.add(Dense(NUM_CLASSES))\n",
    "# model.add(Dense(NUM_CLASSES, activation='softmax'))\n",
    "# normally it is better to use the code line above but because of \n",
    "# dependency problems in the current environment, I used the code line below\n",
    "model.add(Activation(tf.nn.softmax))\n",
    "\n",
    "print(model.count_params())\n",
    "print(model.summary())\n",
    "\n",
    "\"\"\"\n",
    "model.compile(loss=keras.losses.categorical_crossentropy,\n",
    "             optimizer=keras.optimizers.Adadelta(),\n",
    "             metrics=['accuracy'])\n",
    "\"\"\"\n",
    "\n",
    "model.compile(loss=keras.losses.categorical_crossentropy,\n",
    "             optimizer=keras.optimizers.Adam(),\n",
    "             metrics=['accuracy'])"
   ]
  },
  {
   "cell_type": "code",
   "execution_count": 7,
   "metadata": {},
   "outputs": [
    {
     "name": "stdout",
     "output_type": "stream",
     "text": [
      "Train on 50000 samples, validate on 10000 samples\n",
      "Epoch 1/12\n",
      "50000/50000 [==============================] - 1344s 27ms/step - loss: 1.7733 - acc: 0.3253 - val_loss: 1.4032 - val_acc: 0.4785\n",
      "Epoch 2/12\n",
      "50000/50000 [==============================] - 1343s 27ms/step - loss: 1.3503 - acc: 0.5058 - val_loss: 1.2064 - val_acc: 0.5693\n",
      "Epoch 3/12\n",
      "50000/50000 [==============================] - 1341s 27ms/step - loss: 1.1741 - acc: 0.5769 - val_loss: 1.0389 - val_acc: 0.6332\n",
      "Epoch 4/12\n",
      "50000/50000 [==============================] - 1341s 27ms/step - loss: 1.0339 - acc: 0.6331 - val_loss: 0.9187 - val_acc: 0.6757\n",
      "Epoch 5/12\n",
      "50000/50000 [==============================] - 1341s 27ms/step - loss: 0.9412 - acc: 0.6680 - val_loss: 0.8950 - val_acc: 0.6847\n",
      "Epoch 6/12\n",
      "50000/50000 [==============================] - 1342s 27ms/step - loss: 0.8782 - acc: 0.6933 - val_loss: 0.8115 - val_acc: 0.7138\n",
      "Epoch 7/12\n",
      "50000/50000 [==============================] - 1342s 27ms/step - loss: 0.8310 - acc: 0.7070 - val_loss: 0.7813 - val_acc: 0.7305\n",
      "Epoch 8/12\n",
      "50000/50000 [==============================] - 1343s 27ms/step - loss: 0.7886 - acc: 0.7223 - val_loss: 0.7494 - val_acc: 0.7434\n",
      "Epoch 9/12\n",
      "50000/50000 [==============================] - 1342s 27ms/step - loss: 0.7414 - acc: 0.7419 - val_loss: 0.7602 - val_acc: 0.7405\n",
      "Epoch 10/12\n",
      "50000/50000 [==============================] - 1343s 27ms/step - loss: 0.7231 - acc: 0.7465 - val_loss: 0.7082 - val_acc: 0.7556\n",
      "Epoch 11/12\n",
      "50000/50000 [==============================] - 1342s 27ms/step - loss: 0.6913 - acc: 0.7571 - val_loss: 0.6915 - val_acc: 0.7605\n",
      "Epoch 12/12\n",
      "50000/50000 [==============================] - 1342s 27ms/step - loss: 0.6630 - acc: 0.7697 - val_loss: 0.6994 - val_acc: 0.7566\n"
     ]
    },
    {
     "data": {
      "text/plain": [
       "<keras.callbacks.History at 0x7f34f7a7a588>"
      ]
     },
     "execution_count": 7,
     "metadata": {},
     "output_type": "execute_result"
    }
   ],
   "source": [
    "model.fit(X_train, y_train, batch_size=128, epochs=12, verbose=1, \n",
    "          validation_data=(X_test, y_test), shuffle=True)"
   ]
  },
  {
   "cell_type": "code",
   "execution_count": 8,
   "metadata": {},
   "outputs": [
    {
     "name": "stdout",
     "output_type": "stream",
     "text": [
      "10000/10000 [==============================] - 86s 9ms/step\n"
     ]
    },
    {
     "data": {
      "text/plain": [
       "[0.6993805432796478, 0.7566]"
      ]
     },
     "execution_count": 8,
     "metadata": {},
     "output_type": "execute_result"
    }
   ],
   "source": [
    "model.evaluate(X_test, y_test, verbose=1)"
   ]
  },
  {
   "cell_type": "code",
   "execution_count": 9,
   "metadata": {},
   "outputs": [
    {
     "name": "stdout",
     "output_type": "stream",
     "text": [
      "Image: Frog\n",
      "Probability of being Plain: 0.00%\n",
      "Probability of being Auto: 0.00%\n",
      "Probability of being Bird: 0.18%\n",
      "Probability of being Cat: 0.37%\n",
      "Probability of being Deer: 0.00%\n",
      "Probability of being Dog: 0.01%\n",
      "Probability of being Frog: 99.44%\n",
      "Probability of being Horse: 0.00%\n",
      "Probability of being Ship: 0.00%\n",
      "Probability of being Truck: 0.00%\n"
     ]
    },
    {
     "data": {
      "image/png": "[encoded data removed]",
      "text/plain": [
       "<Figure size 432x288 with 1 Axes>"
      ]
     },
     "metadata": {
      "needs_background": "light"
     },
     "output_type": "display_data"
    }
   ],
   "source": [
    "idx = random.randint(0, X_test.shape[0])\n",
    "\n",
    "sample_img = X_test[idx]\n",
    "sample_label = np.argmax(y_test[idx])\n",
    "\n",
    "print(\"Image: %s\" % TYPE_MAP[sample_label])\n",
    "plt.imshow(sample_img)\n",
    "\n",
    "sample_img = sample_img.reshape(1, 32, 32, 3)\n",
    "\n",
    "for i, v in enumerate(model.predict(sample_img)[0]):\n",
    "  print(\"Probability of being %s: %.2f%%\" % (TYPE_MAP[i], v * 100))"
   ]
  },
  {
   "cell_type": "code",
   "execution_count": 10,
   "metadata": {},
   "outputs": [],
   "source": [
    "\"\"\"\n",
    "for layer in model.layers:\n",
    "  print(\"Layer : \\n\"), layer.get_weights()\n",
    "\"\"\"\n",
    "weights = model.layers[0].get_weights()[0]\n",
    "biases = model.layers[0].get_weights()[1]\n",
    "\n",
    "#print(biases)\n",
    "\n",
    "# to save weights and layers to use later\n",
    "model.save_weights('cifar10-cnn.h5')\n",
    "\n",
    "# to use the saved training, create the same layes and model.compile, then model load\n",
    "model.load_weights('cifar10-cnn.h5')"
   ]
  },
  {
   "cell_type": "code",
   "execution_count": null,
   "metadata": {},
   "outputs": [],
   "source": []
  }
 ],
 "metadata": {
  "kernelspec": {
   "display_name": "Python 3",
   "language": "python",
   "name": "python3"
  },
  "language_info": {
   "codemirror_mode": {
    "name": "ipython",
    "version": 3
   },
   "file_extension": ".py",
   "mimetype": "text/x-python",
   "name": "python",
   "nbconvert_exporter": "python",
   "pygments_lexer": "ipython3",
   "version": "3.6.7"
  }
 },
 "nbformat": 4,
 "nbformat_minor": 2
}
