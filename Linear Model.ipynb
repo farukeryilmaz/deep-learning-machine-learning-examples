{
 "cells": [
  {
   "cell_type": "markdown",
   "metadata": {},
   "source": []
  },
  {
   "cell_type": "code",
   "execution_count": 1,
   "metadata": {},
   "outputs": [],
   "source": [
    "import tensorflow as tf\n",
    "from tensorflow.examples.tutorials.mnist import input_data\n",
    "import matplotlib.pyplot as plt\n",
    "import numpy as np\n",
    "import random\n",
    "\n",
    "%matplotlib inline"
   ]
  },
  {
   "cell_type": "code",
   "execution_count": 2,
   "metadata": {},
   "outputs": [
    {
     "name": "stdout",
     "output_type": "stream",
     "text": [
      "Extracting data/MNIST/train-images-idx3-ubyte.gz\n",
      "Extracting data/MNIST/train-labels-idx1-ubyte.gz\n",
      "Extracting data/MNIST/t10k-images-idx3-ubyte.gz\n",
      "Extracting data/MNIST/t10k-labels-idx1-ubyte.gz\n"
     ]
    }
   ],
   "source": [
    "mnist = input_data.read_data_sets('data/MNIST/', one_hot=True) #onhot=true -> y=5 ise => on tane eleman olan vektore cevirdi -> y=[0,0,0,0,1,0,0,0,0,0]"
   ]
  },
  {
   "cell_type": "code",
   "execution_count": 3,
   "metadata": {},
   "outputs": [],
   "source": [
    "def show_digit(pixels):\n",
    "    img = pixels.reshape(28, 28)\n",
    "    plt.axis('off')\n",
    "    plt.imshow(img, cmap='gray_r')"
   ]
  },
  {
   "cell_type": "code",
   "execution_count": 4,
   "metadata": {},
   "outputs": [
    {
     "data": {
      "image/png": "[encoded data removed]",
      "text/plain": [
       "<Figure size 432x288 with 1 Axes>"
      ]
     },
     "metadata": {
      "needs_background": "light"
     },
     "output_type": "display_data"
    }
   ],
   "source": [
    "sample = random.choice(mnist.train.images)\n",
    "\n",
    "show_digit(sample)"
   ]
  },
  {
   "cell_type": "code",
   "execution_count": 22,
   "metadata": {},
   "outputs": [
    {
     "name": "stdout",
     "output_type": "stream",
     "text": [
      "Training data set: 55000\n",
      "Test data set: 10000\n"
     ]
    }
   ],
   "source": [
    "print(u\"Training data set: %d\" % len(mnist.train.images))\n",
    "print(u\"Test data set: %d\" % len(mnist.test.images))"
   ]
  },
  {
   "cell_type": "code",
   "execution_count": 6,
   "metadata": {},
   "outputs": [],
   "source": [
    "#veri setini iclerine koymak icin\n",
    "X = tf.placeholder(tf.float32, [None, 784]) #yertutucu tersorfow degiskeni, yertutucunun veri tipi float32, matrix formatinda kac satir oldugunu bilmiyoruz o yuzden none, 784 deger\n",
    "y = tf.placeholder(tf.float32, [None, 10]) #onhot=true -> y=5 ise => on tane eleman olan vektore cevirdi -> y=[0,0,0,0,1,0,0,0,0,0]\n",
    "\n",
    "W = tf.Variable(tf.truncated_normal(shape=[784, 10], stddev=0.1)) #rastgele sayilar olustur, boyutu 784x4. 0.1 -> elemanlar arasi sicrama\n",
    "b = tf.Variable(tf.constant(shape=[10], value=0.1)) #basta sabit bir deger=0.1, boyutu 10"
   ]
  },
  {
   "cell_type": "code",
   "execution_count": 7,
   "metadata": {},
   "outputs": [],
   "source": [
    "y_pred = tf.nn.softmax(tf.matmul(X, W) + b) #y_pred=[0.01, 0.2.., 0.75, ...,0.1] en yuksek 5inci index, y ile karsilastirmasi kolay eger onehot true ise\n",
    "\n",
    "loss = tf.reduce_mean(-tf.reduce_sum(y * tf.log(y_pred),\n",
    "                                    reduction_indices=[1])) # probleme gore maliyet fonksiyonlari vardir, bu fonksiyon cross entropy. fonksiyona gore deger ne kadar buyuk ise o kadar kotu\n",
    "# loss un minimum oldugu noktayi ariyoruz\n",
    "\n",
    "optimizer = tf.train.GradientDescentOptimizer(0.05).minimize(loss) # 0.05 -> learning rate \n",
    "\n",
    "correct_predictions = tf.equal(tf.argmax(y, 1), tf.argmax(y_pred, 1)) # liste halinde true false cikaracak\n",
    "accuracy = tf.reduce_mean(tf.cast(correct_predictions, tf.float32)) # dogrular 1.0, yanlislar 0. reduce_mean -> listenin icindeki m tane sayiyi topla ve m ye bol (yani ortalama al)"
   ]
  },
  {
   "cell_type": "code",
   "execution_count": 8,
   "metadata": {},
   "outputs": [
    {
     "name": "stdout",
     "output_type": "stream",
     "text": [
      "[*] Step: 0, test accuracy: 22.03%\n",
      "[*] Step: 500, test accuracy: 88.52%\n",
      "[*] Step: 1000, test accuracy: 89.81%\n",
      "[*] Step: 1500, test accuracy: 90.39%\n",
      "[*] Step: 2000, test accuracy: 90.65%\n",
      "[*] Step: 2500, test accuracy: 90.87%\n",
      "[*] Step: 3000, test accuracy: 91.22%\n",
      "[*] Step: 3500, test accuracy: 91.37%\n",
      "[*] Step: 4000, test accuracy: 91.44%\n",
      "[*] Step: 4500, test accuracy: 91.51%\n",
      "[*] Step: 5000, test accuracy: 91.62%\n",
      "[*] Step: 5500, test accuracy: 91.72%\n",
      "[*] Step: 6000, test accuracy: 91.76%\n",
      "[*] Step: 6500, test accuracy: 91.86%\n",
      "[*] Step: 7000, test accuracy: 91.91%\n",
      "[*] Step: 7500, test accuracy: 91.97%\n",
      "[*] Step: 8000, test accuracy: 91.94%\n",
      "[*] Step: 8500, test accuracy: 91.95%\n",
      "[*] Step: 9000, test accuracy: 92.08%\n",
      "[*] Step: 9500, test accuracy: 92.01%\n"
     ]
    }
   ],
   "source": [
    "sess = tf.Session() # calisirabilmek icin session olusturduk\n",
    "sess.run(tf.global_variables_initializer())\n",
    "\n",
    "for i in range(10000):\n",
    "    xs, ys = mnist.train.next_batch(150) # 128 resim. tek seferde tek resim gondermek maliyeti yukseltir o yuzden 128 tane resmi paket halinde gonder. sistem gucune gore sayi artabilir azaltilabilir\n",
    "    \n",
    "    sess.run(optimizer, feed_dict={X: xs, y: ys})\n",
    "    \n",
    "    if i % 500 == 0: #her 500 adimda accuracy calistir, test veri setinin hepsini gonder, modelin basarisini olc\n",
    "        acc = sess.run(accuracy, feed_dict={X: mnist.test.images,\n",
    "                                           y: mnist.test.labels})\n",
    "        print(\"[*] Step: %d, test accuracy: %.2f%%\" % (i, acc * 100))\n",
    "        "
   ]
  },
  {
   "cell_type": "code",
   "execution_count": 9,
   "metadata": {},
   "outputs": [],
   "source": [
    "weig = tf.Print(W,[W])\n",
    "bia = tf.Print(b,[b])\n",
    "# print sess.run(weig), sess.run(bia)"
   ]
  },
  {
   "cell_type": "code",
   "execution_count": 23,
   "metadata": {},
   "outputs": [
    {
     "name": "stdout",
     "output_type": "stream",
     "text": [
      "Probability of being 0: 0.01%\n",
      "Probability of being 1: 0.00%\n",
      "Probability of being 2: 0.01%\n",
      "Probability of being 3: 0.00%\n",
      "Probability of being 4: 99.31%\n",
      "Probability of being 5: 0.07%\n",
      "Probability of being 6: 0.16%\n",
      "Probability of being 7: 0.02%\n",
      "Probability of being 8: 0.04%\n",
      "Probability of being 9: 0.38%\n"
     ]
    },
    {
     "data": {
      "image/png": "[encoded data removed]",
      "text/plain": [
       "<Figure size 432x288 with 1 Axes>"
      ]
     },
     "metadata": {
      "needs_background": "light"
     },
     "output_type": "display_data"
    }
   ],
   "source": [
    "sample = random.choice(mnist.test.images)\n",
    "\n",
    "predict = sess.run(y_pred, feed_dict={X: [sample]})[0]\n",
    "\n",
    "for i, v in enumerate(predict):\n",
    "    print(\"Probability of being %d: %.2f%%\" % (i, v * 100))\n",
    "    \n",
    "show_digit(sample)"
   ]
  },
  {
   "cell_type": "code",
   "execution_count": 24,
   "metadata": {},
   "outputs": [
    {
     "name": "stdout",
     "output_type": "stream",
     "text": [
      "Resmin 0 olma ihtimali: 0.22%\n",
      "Resmin 1 olma ihtimali: 0.00%\n",
      "Resmin 2 olma ihtimali: 8.42%\n",
      "Resmin 3 olma ihtimali: 3.59%\n",
      "Resmin 4 olma ihtimali: 0.00%\n",
      "Resmin 5 olma ihtimali: 73.11%\n",
      "Resmin 6 olma ihtimali: 0.02%\n",
      "Resmin 7 olma ihtimali: 0.40%\n",
      "Resmin 8 olma ihtimali: 14.22%\n",
      "Resmin 9 olma ihtimali: 0.01%\n"
     ]
    },
    {
     "data": {
      "image/png": "[encoded data removed]",
      "text/plain": [
       "<Figure size 432x288 with 1 Axes>"
      ]
     },
     "metadata": {
      "needs_background": "light"
     },
     "output_type": "display_data"
    }
   ],
   "source": [
    "random_img = np.random.rand(784)\n",
    "\n",
    "predict = sess.run(y_pred, feed_dict={X: [random_img]})[0]\n",
    "\n",
    "for i, v in enumerate(predict):\n",
    "    print(\"Resmin %d olma ihtimali: %.2f%%\" % (i, v * 100))\n",
    "    \n",
    "show_digit(random_img)"
   ]
  },
  {
   "cell_type": "code",
   "execution_count": null,
   "metadata": {},
   "outputs": [],
   "source": []
  }
 ],
 "metadata": {
  "kernelspec": {
   "display_name": "Python 3",
   "language": "python",
   "name": "python3"
  },
  "language_info": {
   "codemirror_mode": {
    "name": "ipython",
    "version": 3
   },
   "file_extension": ".py",
   "mimetype": "text/x-python",
   "name": "python",
   "nbconvert_exporter": "python",
   "pygments_lexer": "ipython3",
   "version": "3.6.7"
  }
 },
 "nbformat": 4,
 "nbformat_minor": 2
}
