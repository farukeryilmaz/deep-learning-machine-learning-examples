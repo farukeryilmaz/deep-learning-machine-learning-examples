{
 "cells": [
  {
   "cell_type": "code",
   "execution_count": 1,
   "metadata": {},
   "outputs": [],
   "source": [
    "import tensorflow as tf\n",
    "from tensorflow.examples.tutorials.mnist import input_data\n",
    "import matplotlib.pyplot as plt\n",
    "import numpy as np\n",
    "import random\n",
    "\n",
    "%matplotlib inline"
   ]
  },
  {
   "cell_type": "code",
   "execution_count": 2,
   "metadata": {},
   "outputs": [
    {
     "name": "stdout",
     "output_type": "stream",
     "text": [
      "Extracting data/MNIST/train-images-idx3-ubyte.gz\n",
      "Extracting data/MNIST/train-labels-idx1-ubyte.gz\n",
      "Extracting data/MNIST/t10k-images-idx3-ubyte.gz\n",
      "Extracting data/MNIST/t10k-labels-idx1-ubyte.gz\n"
     ]
    }
   ],
   "source": [
    "mnist = input_data.read_data_sets('data/MNIST/', one_hot=True)"
   ]
  },
  {
   "cell_type": "code",
   "execution_count": 3,
   "metadata": {},
   "outputs": [],
   "source": [
    "\"\"\"# one hidden layer\n",
    "X = tf.placeholder(tf.float32, [None, 784])\n",
    "y = tf.placeholder(tf.float32, [None, 10])\n",
    "\n",
    "W_hidden1 = tf.Variable(tf.truncated_normal(shape=[784, 256], stddev=0.1))\n",
    "\n",
    "b_hidden1 = tf.Variable(tf.constant(shape=[256], value=0.1))\n",
    "\n",
    "W_output = tf.Variable(tf.truncated_normal(shape=[256, 10]))\n",
    "\n",
    "b_output = tf.Variable(tf.constant(shape=[10], value=[0.1]))\n",
    "\"\"\"\n",
    "\n",
    "# two hidden layer\n",
    "X = tf.placeholder(tf.float32, [None, 784])\n",
    "y = tf.placeholder(tf.float32, [None, 10])\n",
    "\n",
    "W_hidden1 = tf.Variable(tf.truncated_normal(shape=[784, 256], stddev=0.1))\n",
    "b_hidden1 = tf.Variable(tf.constant(shape=[256], value=0.1))\n",
    "\n",
    "W_hidden2 = tf.Variable(tf.truncated_normal(shape=[256, 128], stddev=0.1))\n",
    "b_hidden2 = tf.Variable(tf.constant(shape=[128], value=0.1))\n",
    "\n",
    "W_output = tf.Variable(tf.truncated_normal(shape=[128, 10], stddev=0.1))\n",
    "b_output = tf.Variable(tf.constant(shape=[10], value=[0.1]))"
   ]
  },
  {
   "cell_type": "code",
   "execution_count": 4,
   "metadata": {},
   "outputs": [],
   "source": [
    "logit1 = tf.matmul(X, W_hidden1) + b_hidden1\n",
    "activ1 = tf.nn.sigmoid(logit1)\n",
    "\n",
    "logit2 = tf.matmul(activ1, W_hidden2) + b_hidden2\n",
    "activ2 = tf.nn.sigmoid(logit2)\n",
    "\n",
    "logit3 = tf.matmul(activ2, W_output) + b_output\n",
    "y_pred = tf.nn.softmax(logit3)\n",
    "\n",
    "loss = tf.reduce_mean(-tf.reduce_sum(y * tf.log(y_pred), reduction_indices=[1]))\n",
    "\n",
    "optimizer = tf.train.GradientDescentOptimizer(0.05).minimize(loss)\n",
    "\n",
    "correct_predictions = tf.equal(tf.argmax(y, 1), tf.argmax(y_pred, 1))\n",
    "accuracy = tf.reduce_mean(tf.cast(correct_predictions, tf.float32))"
   ]
  },
  {
   "cell_type": "code",
   "execution_count": 5,
   "metadata": {},
   "outputs": [
    {
     "name": "stdout",
     "output_type": "stream",
     "text": [
      "[*] Step: 0, test accuracy: 9.80%\n",
      "[*] Step: 1000, test accuracy: 81.91%\n",
      "[*] Step: 2000, test accuracy: 88.20%\n",
      "[*] Step: 3000, test accuracy: 89.73%\n",
      "[*] Step: 4000, test accuracy: 90.67%\n",
      "[*] Step: 5000, test accuracy: 91.31%\n",
      "[*] Step: 6000, test accuracy: 91.68%\n",
      "[*] Step: 7000, test accuracy: 91.99%\n",
      "[*] Step: 8000, test accuracy: 92.41%\n",
      "[*] Step: 9000, test accuracy: 92.58%\n"
     ]
    }
   ],
   "source": [
    "sess = tf.Session()\n",
    "sess.run(tf.global_variables_initializer())\n",
    "\n",
    "for i in range(10000):\n",
    "    xs, ys = mnist.train.next_batch(150)\n",
    "    \n",
    "    sess.run(optimizer, feed_dict={X: xs, y: ys})\n",
    "    \n",
    "    if i % 1000 == 0:\n",
    "        acc = sess.run(accuracy, feed_dict={X: mnist.test.images,\n",
    "                                           y: mnist.test.labels})\n",
    "        print(\"[*] Step: %d, test accuracy: %.2f%%\" % (i, acc * 100))\n",
    "        "
   ]
  },
  {
   "cell_type": "code",
   "execution_count": 6,
   "metadata": {},
   "outputs": [],
   "source": [
    "def show_digit(pixels):\n",
    "    img = pixels.reshape(28, 28)\n",
    "    plt.axis('off')\n",
    "    plt.imshow(img, cmap='gray_r')"
   ]
  },
  {
   "cell_type": "code",
   "execution_count": 20,
   "metadata": {},
   "outputs": [
    {
     "name": "stdout",
     "output_type": "stream",
     "text": [
      "Probability of being 0: 2.08%\n",
      "Probability of being 1: 0.00%\n",
      "Probability of being 2: 0.08%\n",
      "Probability of being 3: 0.00%\n",
      "Probability of being 4: 0.00%\n",
      "Probability of being 5: 97.35%\n",
      "Probability of being 6: 0.04%\n",
      "Probability of being 7: 0.00%\n",
      "Probability of being 8: 0.43%\n",
      "Probability of being 9: 0.00%\n"
     ]
    },
    {
     "data": {
      "image/png": "[encoded data removed]",
      "text/plain": [
       "<Figure size 432x288 with 1 Axes>"
      ]
     },
     "metadata": {
      "needs_background": "light"
     },
     "output_type": "display_data"
    }
   ],
   "source": [
    "sample = random.choice(mnist.test.images)\n",
    "\n",
    "predict = sess.run(y_pred, feed_dict={X: [sample]})[0]\n",
    "\n",
    "for i, v in enumerate(predict):\n",
    "    print(\"Probability of being %d: %.2f%%\" % (i, v * 100))\n",
    "    \n",
    "show_digit(sample)"
   ]
  },
  {
   "cell_type": "code",
   "execution_count": 22,
   "metadata": {},
   "outputs": [
    {
     "name": "stdout",
     "output_type": "stream",
     "text": [
      "Probability of being 0: 38.81%\n",
      "Probability of being 1: 0.00%\n",
      "Probability of being 2: 30.87%\n",
      "Probability of being 3: 12.99%\n",
      "Probability of being 4: 0.00%\n",
      "Probability of being 5: 12.96%\n",
      "Probability of being 6: 0.19%\n",
      "Probability of being 7: 0.01%\n",
      "Probability of being 8: 4.18%\n",
      "Probability of being 9: 0.00%\n"
     ]
    },
    {
     "data": {
      "image/png": "[encoded data removed]",
      "text/plain": [
       "<Figure size 432x288 with 1 Axes>"
      ]
     },
     "metadata": {
      "needs_background": "light"
     },
     "output_type": "display_data"
    }
   ],
   "source": [
    "random_img = np.random.rand(784)\n",
    "\n",
    "predict = sess.run(y_pred, feed_dict={X: [random_img]})[0]\n",
    "\n",
    "for i, v in enumerate(predict):\n",
    "    print(\"Probability of being %d: %.2f%%\" % (i, v * 100))\n",
    "    \n",
    "show_digit(random_img)"
   ]
  },
  {
   "cell_type": "code",
   "execution_count": null,
   "metadata": {},
   "outputs": [],
   "source": []
  }
 ],
 "metadata": {
  "kernelspec": {
   "display_name": "Python 3",
   "language": "python",
   "name": "python3"
  },
  "language_info": {
   "codemirror_mode": {
    "name": "ipython",
    "version": 3
   },
   "file_extension": ".py",
   "mimetype": "text/x-python",
   "name": "python",
   "nbconvert_exporter": "python",
   "pygments_lexer": "ipython3",
   "version": "3.6.7"
  }
 },
 "nbformat": 4,
 "nbformat_minor": 2
}
