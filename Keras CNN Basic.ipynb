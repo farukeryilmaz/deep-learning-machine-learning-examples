{
 "cells": [
  {
   "cell_type": "code",
   "execution_count": 1,
   "metadata": {},
   "outputs": [
    {
     "name": "stderr",
     "output_type": "stream",
     "text": [
      "Using TensorFlow backend.\n"
     ]
    }
   ],
   "source": [
    "import keras\n",
    "from keras.datasets import mnist\n",
    "from keras.models import Sequential\n",
    "from keras.layers import Dense, Dropout, Flatten, Conv2D, MaxPool2D, Activation\n",
    "import tensorflow as tf "
   ]
  },
  {
   "cell_type": "code",
   "execution_count": 2,
   "metadata": {},
   "outputs": [],
   "source": [
    "NUM_CLASSES = 10\n",
    "IMG_ROWS = IMG_COLS = 28\n",
    "\n",
    "# test ve egitim icin verileri otomatik cikartiliyor\n",
    "(X_train, y_train), (X_test, y_test) = mnist.load_data()\n",
    "\n",
    "# egitim icin kullanilacak inputlarin boyutu degistirildi, xtrain=array, 1 tane kanal rayisi var siyahbeyaz. rgbde 3 kanal var\n",
    "X_train = X_train.reshape(X_train.shape[0], IMG_ROWS, IMG_COLS, 1) \n",
    "X_test = X_test.reshape(X_test.shape[0], IMG_ROWS, IMG_COLS, 1)\n",
    "\n",
    "X_train = X_train.astype('float32') / 255.0\n",
    "X_test = X_test.astype('float32') / 255.0\n",
    "\n",
    "#y_train i matrixe cevir -> one_hot'in karsiligi\n",
    "y_train = keras.utils.to_categorical(y_train, NUM_CLASSES) \n",
    "y_test = keras.utils.to_categorical(y_test, NUM_CLASSES)"
   ]
  },
  {
   "cell_type": "code",
   "execution_count": 3,
   "metadata": {},
   "outputs": [],
   "source": [
    "model = Sequential()\n",
    "\n",
    "#resimlere aktivasyon yapmak zorundayiz cunku ozniteliklerin degerleri cok artiyor, degersizler azaliyor. \n",
    "# aktivasyondan gecirip degersizleri sifirlayarak onlardan kurtulmaya calisiliyor (negatif degerer sifir olsun).\n",
    "# 32 tane farkli filtre uygula\n",
    "model.add(Conv2D(32, kernel_size=(5, 5), activation='relu', input_shape=(IMG_ROWS, IMG_COLS,1))) \n",
    "\n",
    "# 2x2 pizelleri geziyor, en buyugunu aliyor. gereksiz bilgileri atip boyut dusuruluyor\n",
    "model.add(MaxPool2D(pool_size=(2, 2))) \n",
    "\n",
    "model.add(Conv2D(64, kernel_size=(5, 5), activation='relu')) \n",
    "model.add(MaxPool2D(pool_size=(2, 2)))\n",
    "\n",
    "#model.add(Dropout(0.35))\n",
    "\n",
    " # duz katman\n",
    "model.add(Flatten())\n",
    "\n",
    " # dense=hiddenlayer=fullconnected. 1 gizli katmanda 128 noron var. gizli katman eklemek icin tekrar ayni sekilde add\n",
    "model.add(Dense(128, activation='relu'))\n",
    "model.add(Dense(NUM_CLASSES))\n",
    "\n",
    "# model.add(Dense(NUM_CLASSES, activation='softmax')) #exit layer\n",
    "# normally it is better to use the code line above but because of \n",
    "# dependency problems in the current environment, I used the code line below\n",
    "model.add(Activation(tf.nn.softmax))\n",
    "\n",
    "model.compile(loss=keras.losses.categorical_crossentropy, \n",
    "              optimizer=keras.optimizers.Adam(), \n",
    "              metrics=['accuracy'])"
   ]
  },
  {
   "cell_type": "code",
   "execution_count": 4,
   "metadata": {},
   "outputs": [
    {
     "name": "stdout",
     "output_type": "stream",
     "text": [
      "Train on 60000 samples, validate on 10000 samples\n",
      "Epoch 1/10\n",
      "60000/60000 [==============================] - 263s 4ms/step - loss: 0.1984 - acc: 0.9416 - val_loss: 0.0479 - val_acc: 0.9835\n",
      "Epoch 2/10\n",
      "60000/60000 [==============================] - 358s 6ms/step - loss: 0.0518 - acc: 0.9841 - val_loss: 0.0345 - val_acc: 0.9893\n",
      "Epoch 3/10\n",
      "60000/60000 [==============================] - 363s 6ms/step - loss: 0.0360 - acc: 0.9888 - val_loss: 0.0278 - val_acc: 0.9913\n",
      "Epoch 4/10\n",
      "60000/60000 [==============================] - 327s 5ms/step - loss: 0.0273 - acc: 0.9913 - val_loss: 0.0312 - val_acc: 0.9899\n",
      "Epoch 5/10\n",
      "60000/60000 [==============================] - 337s 6ms/step - loss: 0.0212 - acc: 0.9932 - val_loss: 0.0258 - val_acc: 0.9913\n",
      "Epoch 6/10\n",
      "60000/60000 [==============================] - 291s 5ms/step - loss: 0.0161 - acc: 0.9946 - val_loss: 0.0243 - val_acc: 0.9921\n",
      "Epoch 7/10\n",
      "60000/60000 [==============================] - 227s 4ms/step - loss: 0.0145 - acc: 0.9952 - val_loss: 0.0221 - val_acc: 0.9937\n",
      "Epoch 8/10\n",
      "60000/60000 [==============================] - 359s 6ms/step - loss: 0.0115 - acc: 0.9961 - val_loss: 0.0251 - val_acc: 0.9919\n",
      "Epoch 9/10\n",
      "60000/60000 [==============================] - 363s 6ms/step - loss: 0.0085 - acc: 0.9973 - val_loss: 0.0292 - val_acc: 0.9916\n",
      "Epoch 10/10\n",
      "60000/60000 [==============================] - 345s 6ms/step - loss: 0.0092 - acc: 0.9970 - val_loss: 0.0357 - val_acc: 0.9902\n"
     ]
    },
    {
     "data": {
      "text/plain": [
       "<keras.callbacks.History at 0x7f713fd70400>"
      ]
     },
     "execution_count": 4,
     "metadata": {},
     "output_type": "execute_result"
    }
   ],
   "source": [
    "model.fit(X_train, y_train, batch_size=128, epochs=10, verbose=1, validation_data=(X_test, y_test))"
   ]
  },
  {
   "cell_type": "code",
   "execution_count": 5,
   "metadata": {},
   "outputs": [
    {
     "name": "stdout",
     "output_type": "stream",
     "text": [
      "10000/10000 [==============================] - 25s 3ms/step\n"
     ]
    },
    {
     "data": {
      "text/plain": [
       "[0.03565424863046028, 0.9902]"
      ]
     },
     "execution_count": 5,
     "metadata": {},
     "output_type": "execute_result"
    }
   ],
   "source": [
    "model.evaluate(X_test, y_test, verbose=1)"
   ]
  },
  {
   "cell_type": "code",
   "execution_count": 6,
   "metadata": {},
   "outputs": [],
   "source": [
    "%matplotlib inline\n",
    "import matplotlib.pyplot as plt\n",
    "import random\n",
    "\n",
    "def show_digit(pixels):\n",
    "    img = pixels.reshape(28, 28)\n",
    "    plt.axis('off')\n",
    "    plt.imshow(img, cmap='gray_r')"
   ]
  },
  {
   "cell_type": "code",
   "execution_count": 26,
   "metadata": {},
   "outputs": [
    {
     "name": "stdout",
     "output_type": "stream",
     "text": [
      "Probability of being 0: 0.000000%\n",
      "Probability of being 1: 0.000000%\n",
      "Probability of being 2: 0.000000%\n",
      "Probability of being 3: 100.000000%\n",
      "Probability of being 4: 0.000000%\n",
      "Probability of being 5: 0.000000%\n",
      "Probability of being 6: 0.000000%\n",
      "Probability of being 7: 0.000000%\n",
      "Probability of being 8: 0.000000%\n",
      "Probability of being 9: 0.000000%\n"
     ]
    },
    {
     "data": {
      "image/png": "[encoded data removed]",
      "text/plain": [
       "<Figure size 432x288 with 1 Axes>"
      ]
     },
     "metadata": {
      "needs_background": "light"
     },
     "output_type": "display_data"
    }
   ],
   "source": [
    "sample = random.choice(X_test)\n",
    "\n",
    "show_digit(sample)\n",
    "\n",
    "sample = sample.reshape(1, 28, 28, 1)\n",
    "\n",
    "predictions = model.predict(sample)[0]\n",
    "\n",
    "for i, v in enumerate(predictions):\n",
    "    print(\"Probability of being %d: %.6f%%\" % (i, v * 100))"
   ]
  },
  {
   "cell_type": "code",
   "execution_count": null,
   "metadata": {},
   "outputs": [],
   "source": []
  }
 ],
 "metadata": {
  "kernelspec": {
   "display_name": "Python 3",
   "language": "python",
   "name": "python3"
  },
  "language_info": {
   "codemirror_mode": {
    "name": "ipython",
    "version": 3
   },
   "file_extension": ".py",
   "mimetype": "text/x-python",
   "name": "python",
   "nbconvert_exporter": "python",
   "pygments_lexer": "ipython3",
   "version": "3.6.7"
  }
 },
 "nbformat": 4,
 "nbformat_minor": 2
}
